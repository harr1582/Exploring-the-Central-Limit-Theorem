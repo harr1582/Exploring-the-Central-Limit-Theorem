{
 "cells": [
  {
   "cell_type": "code",
   "execution_count": 2,
   "metadata": {},
   "outputs": [],
   "source": [
    "import numpy as np\n",
    "import pandas as pd\n",
    "import matplotlib.pyplot as plt\n",
    "%matplotlib inline"
   ]
  },
  {
   "cell_type": "code",
   "execution_count": 36,
   "metadata": {},
   "outputs": [
    {
     "name": "stdout",
     "output_type": "stream",
     "text": [
      "2.11\n",
      "4.91\n",
      "1.2156891049935423\n",
      "1.2968808734806756\n"
     ]
    },
    {
     "data": {
      "image/png": "[encoded data removed]",
      "text/plain": [
       "<Figure size 432x288 with 1 Axes>"
      ]
     },
     "metadata": {
      "needs_background": "light"
     },
     "output_type": "display_data"
    }
   ],
   "source": [
    "#Specifically, create two binomially distributed populations with n equal to 10 and size equal to 10000. \n",
    "#The p-value of pop1 should be 0.2 and the p-value of pop2 should be 0.5. \n",
    "#Using a sample size of 100, calculate the means and standard deviations of your samples.\n",
    "\n",
    "pop1 = np.random.binomial(10, .2, 10000)\n",
    "pop2 = np.random.binomial(10, .5, 10000)\n",
    "\n",
    "sample1 = np.random.choice(pop1, 100, replace = True)\n",
    "sample2 = np.random.choice(pop2, 100, replace = True)\n",
    "\n",
    "print(sample1.mean())\n",
    "print(sample2.mean())\n",
    "print(sample1.std())\n",
    "print(sample2.std())\n",
    "\n",
    "#Increase the size of your samples from 100 to 1000, then calculate the means and standard deviations for your \n",
    "#new samples and create histograms for each. Repeat this again, decreasing the size of your samples to 20. \n",
    "#What values change, and what remain the same?\n",
    "\n",
    "sample1 = np.random.choice(pop1, 1000, replace = True)\n",
    "sample2 = np.random.choice(pop2, 1000, replace = True)\n",
    "\n",
    "\n",
    "plt.hist(sample1, label= 'Sample 1', alpha = .9)\n",
    "plt.hist(sample2, label= 'Sample 2', alpha= .7)\n",
    "plt.axvline(sample1.mean(), linestyle= 'solid', color='cyan')\n",
    "plt.axvline(sample1.mean() + sample1.std(), linestyle= 'dashed', color='cyan')\n",
    "plt.axvline(sample1.mean() - sample1.std(), linestyle= 'dashed', color='cyan')\n",
    "plt.axvline(sample2.mean(), linestyle= 'solid', color='yellow')\n",
    "plt.axvline(sample2.mean() + sample2.std(), linestyle= 'dashed', color='yellow')\n",
    "plt.axvline(sample2.mean() - sample2.std(), linestyle= 'dashed', color='yellow')\n",
    "plt.legend(loc='upper right')\n",
    "plt.title('Sample size = 1000')\n",
    "plt.show()"
   ]
  },
  {
   "cell_type": "code",
   "execution_count": 12,
   "metadata": {},
   "outputs": [],
   "source": [
    "#Increase the size of your samples from 100 to 1000, then calculate the means and standard deviations for your \n",
    "#new samples and create histograms for each. Repeat this again, decreasing the size of your samples to 20. \n",
    "#What values change, and what remain the same?\n",
    "##Increasing the sample size should decrease the width of the standard deviation and decreasing it should do the inverse\n",
    "\n"
   ]
  },
  {
   "cell_type": "code",
   "execution_count": 37,
   "metadata": {
    "scrolled": true
   },
   "outputs": [
    {
     "data": {
      "image/png": "[encoded data removed]",
      "text/plain": [
       "<Figure size 432x288 with 1 Axes>"
      ]
     },
     "metadata": {
      "needs_background": "light"
     },
     "output_type": "display_data"
    }
   ],
   "source": [
    "sample1 = np.random.choice(pop1, 20, replace = True)\n",
    "sample2 = np.random.choice(pop2, 20, replace = True)\n",
    "\n",
    "plt.hist(sample1, label= 'Sample 1', alpha = .9)\n",
    "plt.hist(sample2, label= 'Sample 2', alpha= .7)\n",
    "plt.axvline(sample1.mean(), linestyle= 'solid', color='cyan')\n",
    "plt.axvline(sample1.mean() + sample1.std(), linestyle= 'dashed', color='cyan')\n",
    "plt.axvline(sample1.mean() - sample1.std(), linestyle= 'dashed', color='cyan')\n",
    "plt.axvline(sample2.mean(), linestyle= 'solid', color='yellow')\n",
    "plt.axvline(sample2.mean() + sample2.std(), linestyle= 'dashed', color='yellow')\n",
    "plt.axvline(sample2.mean() - sample2.std(), linestyle= 'dashed', color='yellow')\n",
    "plt.legend(loc='upper right')\n",
    "plt.title('Sample size = 20')\n",
    "plt.show()"
   ]
  },
  {
   "cell_type": "code",
   "execution_count": 15,
   "metadata": {},
   "outputs": [],
   "source": [
    "#The data look more sparse and are likely less accurate with a smaller\n",
    "#sample size."
   ]
  },
  {
   "cell_type": "code",
   "execution_count": 18,
   "metadata": {},
   "outputs": [],
   "source": [
    "#Change the probability value (p in the NumPy documentation) for \n",
    "#pop1 to 0.3, \n",
    "#then take new samples and compute the t-statistic and p-value. \n",
    "#Then change the probability value p for group 1 to 0.4, and \n",
    "#do it again. What changes, and why?"
   ]
  },
  {
   "cell_type": "code",
   "execution_count": 38,
   "metadata": {},
   "outputs": [
    {
     "name": "stdout",
     "output_type": "stream",
     "text": [
      "Ttest_indResult(statistic=-7.606144392526363, pvalue=1.2273423162761898e-12)\n"
     ]
    }
   ],
   "source": [
    "pop1 = np.random.binomial(10, .2, 20)\n",
    "pop1a = np.random.binomial(10, .3, 20)\n",
    "pop1b = np.random.binomial(10, .4, 20)\n",
    "\n",
    "sample1 = np.random.choice(pop1, 100, replace = True)\n",
    "sample1a = np.random.choice(pop1a, 100, replace = True)\n",
    "sample1b = np.random.choice(pop1b, 100, replace = True)\n",
    "\n",
    "from scipy.stats import ttest_ind\n",
    "print (ttest_ind(sample1, sample1a, equal_var = False))"
   ]
  },
  {
   "cell_type": "code",
   "execution_count": 39,
   "metadata": {},
   "outputs": [
    {
     "name": "stdout",
     "output_type": "stream",
     "text": [
      "Ttest_indResult(statistic=-3.776337570647726, pvalue=0.00021135405919297)\n"
     ]
    }
   ],
   "source": [
    "from scipy.stats import ttest_ind\n",
    "print(ttest_ind(sample1a, sample1b, equal_var=False))"
   ]
  },
  {
   "cell_type": "code",
   "execution_count": 40,
   "metadata": {},
   "outputs": [
    {
     "name": "stdout",
     "output_type": "stream",
     "text": [
      "Ttest_indResult(statistic=-11.055098598765847, pvalue=4.711746789279092e-22)\n"
     ]
    }
   ],
   "source": [
    "from scipy.stats import ttest_ind\n",
    "print(ttest_ind(sample1, sample1b, equal_var=False))"
   ]
  },
  {
   "cell_type": "code",
   "execution_count": null,
   "metadata": {},
   "outputs": [],
   "source": [
    "#The t test results change indicating an increasing difference between  \n",
    "#the variances of the populations.\n",
    "#The p values indicate that the differences between the populations are not due to random chance \n",
    "    "
   ]
  },
  {
   "cell_type": "code",
   "execution_count": 27,
   "metadata": {},
   "outputs": [
    {
     "name": "stdout",
     "output_type": "stream",
     "text": [
      "1.2835497652993435\n",
      "1.4991664350564948\n"
     ]
    }
   ],
   "source": [
    "#Change the distribution of your populations from binomial to a distribution of your choice. \n",
    "#Do the sample mean values still accurately represent the population values?\n",
    "\n",
    "print (pop1.std())\n",
    "print (pop2.std())"
   ]
  },
  {
   "cell_type": "code",
   "execution_count": 44,
   "metadata": {
    "scrolled": true
   },
   "outputs": [
    {
     "data": {
      "image/png": "[encoded data removed]",
      "text/plain": [
       "<Figure size 432x288 with 1 Axes>"
      ]
     },
     "metadata": {
      "needs_background": "light"
     },
     "output_type": "display_data"
    }
   ],
   "source": [
    "\n",
    "pop1 = np.random.normal(2.11, 1.2835, 10000)\n",
    "pop2 = np.random.normal(4.91, 1.49917, 10000)\n",
    "\n",
    "plt.hist(pop1, label= 'Population 1', alpha = .9)\n",
    "plt.hist(pop2, label= 'Population 2', alpha= .7)\n",
    "plt.axvline(pop1.mean(), linestyle= 'solid', color='cyan')\n",
    "plt.axvline(pop1.mean() + pop1.std(), linestyle= 'dashed', color='cyan')\n",
    "plt.axvline(pop1.mean() - pop1.std(), linestyle= 'dashed', color='cyan')\n",
    "plt.axvline(pop2.mean(), linestyle= 'solid', color='yellow')\n",
    "plt.axvline(pop2.mean() + pop2.std(), linestyle= 'dashed', color='yellow')\n",
    "plt.axvline(pop2.mean() - pop2.std(), linestyle= 'dashed', color='yellow')\n",
    "plt.legend(loc='upper right')\n",
    "plt.title('Populations under normal distribution')\n",
    "plt.show()"
   ]
  },
  {
   "cell_type": "code",
   "execution_count": null,
   "metadata": {},
   "outputs": [],
   "source": [
    "#The sample means are the same as the original population mean because I told them to be but the distribution is completely \n",
    "#different as you would expect."
   ]
  }
 ],
 "metadata": {
  "kernelspec": {
   "display_name": "Python 3",
   "language": "python",
   "name": "python3"
  },
  "language_info": {
   "codemirror_mode": {
    "name": "ipython",
    "version": 3
   },
   "file_extension": ".py",
   "mimetype": "text/x-python",
   "name": "python",
   "nbconvert_exporter": "python",
   "pygments_lexer": "ipython3",
   "version": "3.7.1"
  }
 },
 "nbformat": 4,
 "nbformat_minor": 2
}
